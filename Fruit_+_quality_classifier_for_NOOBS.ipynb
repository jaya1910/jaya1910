{
  "metadata": {
    "kernelspec": {
      "language": "python",
      "display_name": "Python 3",
      "name": "python3"
    },
    "language_info": {
      "name": "python",
      "version": "3.7.6",
      "mimetype": "text/x-python",
      "codemirror_mode": {
        "name": "ipython",
        "version": 3
      },
      "pygments_lexer": "ipython3",
      "nbconvert_exporter": "python",
      "file_extension": ".py"
    },
    "kaggle": {
      "accelerator": "gpu",
      "dataSources": [
        {
          "sourceId": 84555,
          "sourceType": "datasetVersion",
          "datasetId": 46490
        }
      ],
      "dockerImageVersionId": 29980,
      "isInternetEnabled": false,
      "language": "python",
      "sourceType": "notebook",
      "isGpuEnabled": true
    },
    "colab": {
      "name": "Fruit + quality classifier for NOOBS",
      "provenance": [],
      "include_colab_link": true
    }
  },
  "nbformat_minor": 0,
  "nbformat": 4,
  "cells": [
    {
      "cell_type": "markdown",
      "metadata": {
        "id": "view-in-github",
        "colab_type": "text"
      },
      "source": [
        "<a href=\"https://colab.research.google.com/github/jaya1910/jaya1910/blob/main/Fruit_%2B_quality_classifier_for_NOOBS.ipynb\" target=\"_parent\"><img src=\"https://colab.research.google.com/assets/colab-badge.svg\" alt=\"Open In Colab\"/></a>"
      ]
    },
    {
      "source": [
        "# IMPORTANT: RUN THIS CELL IN ORDER TO IMPORT YOUR KAGGLE DATA SOURCES,\n",
        "# THEN FEEL FREE TO DELETE THIS CELL.\n",
        "# NOTE: THIS NOTEBOOK ENVIRONMENT DIFFERS FROM KAGGLE'S PYTHON\n",
        "# ENVIRONMENT SO THERE MAY BE MISSING LIBRARIES USED BY YOUR\n",
        "# NOTEBOOK.\n",
        "import kagglehub\n",
        "sriramr_fruits_fresh_and_rotten_for_classification_path = kagglehub.dataset_download('sriramr/fruits-fresh-and-rotten-for-classification')\n",
        "\n",
        "print('Data source import complete.')\n"
      ],
      "metadata": {
        "colab": {
          "base_uri": "https://localhost:8080/"
        },
        "id": "R-5KiuXDqQq_",
        "outputId": "7e4ad573-4317-457c-eb9b-1fa1c4f3d243"
      },
      "cell_type": "code",
      "outputs": [
        {
          "output_type": "stream",
          "name": "stdout",
          "text": [
            "Downloading from https://www.kaggle.com/api/v1/datasets/download/sriramr/fruits-fresh-and-rotten-for-classification?dataset_version_number=1...\n"
          ]
        },
        {
          "output_type": "stream",
          "name": "stderr",
          "text": [
            "100%|██████████| 3.58G/3.58G [00:56<00:00, 67.7MB/s]"
          ]
        },
        {
          "output_type": "stream",
          "name": "stdout",
          "text": [
            "Extracting files...\n"
          ]
        },
        {
          "output_type": "stream",
          "name": "stderr",
          "text": [
            "\n"
          ]
        },
        {
          "output_type": "stream",
          "name": "stdout",
          "text": [
            "Data source import complete.\n"
          ]
        }
      ],
      "execution_count": 1
    },
    {
      "cell_type": "code",
      "source": [
        "import numpy as np\n",
        "import pandas as pd\n",
        "import os\n",
        "import cv2\n",
        "import matplotlib.pyplot as plt\n",
        "from tqdm import tqdm\n",
        "from random import shuffle\n",
        "from keras.utils  import to_categorical\n",
        "import pickle"
      ],
      "metadata": {
        "execution": {
          "iopub.status.busy": "2024-10-28T18:09:30.850029Z",
          "iopub.execute_input": "2024-10-28T18:09:30.850449Z",
          "iopub.status.idle": "2024-10-28T18:09:37.138139Z",
          "shell.execute_reply.started": "2024-10-28T18:09:30.850409Z",
          "shell.execute_reply": "2024-10-28T18:09:37.137117Z"
        },
        "trusted": true,
        "id": "SRZ8xTvTqQrE"
      },
      "execution_count": 2,
      "outputs": []
    },
    {
      "cell_type": "code",
      "source": [
        "def load_rand():\n",
        "    X=[]\n",
        "    dir_path='/kaggle/input/fruits-fresh-and-rotten-for-classification/dataset/train'\n",
        "    for sub_dir in tqdm(os.listdir(dir_path)):\n",
        "        print(sub_dir)\n",
        "        path_main=os.path.join(dir_path,sub_dir)\n",
        "        i=0\n",
        "        for img_name in os.listdir(path_main):\n",
        "            if i>=6:\n",
        "                break\n",
        "            img=cv2.imread(os.path.join(path_main,img_name))\n",
        "            img=cv2.resize(img,(100,100))\n",
        "            img=cv2.cvtColor(img,cv2.COLOR_BGR2RGB)\n",
        "            X.append(img)\n",
        "            i+=1\n",
        "    return X\n",
        ""
      ],
      "metadata": {
        "execution": {
          "iopub.status.busy": "2024-10-28T18:09:37.140698Z",
          "iopub.execute_input": "2024-10-28T18:09:37.141036Z",
          "iopub.status.idle": "2024-10-28T18:09:37.151489Z",
          "shell.execute_reply.started": "2024-10-28T18:09:37.141003Z",
          "shell.execute_reply": "2024-10-28T18:09:37.150426Z"
        },
        "trusted": true,
        "id": "E7BUAgcLqQrF"
      },
      "execution_count": 3,
      "outputs": []
    },
    {
      "cell_type": "code",
      "source": [
        "X=load_rand()"
      ],
      "metadata": {
        "execution": {
          "iopub.status.busy": "2024-10-28T18:09:37.153529Z",
          "iopub.execute_input": "2024-10-28T18:09:37.153932Z",
          "iopub.status.idle": "2024-10-28T18:09:40.173171Z",
          "shell.execute_reply.started": "2024-10-28T18:09:37.153894Z",
          "shell.execute_reply": "2024-10-28T18:09:40.172163Z"
        },
        "trusted": true,
        "colab": {
          "base_uri": "https://localhost:8080/",
          "height": 280
        },
        "id": "FEv60hHaqQrG",
        "outputId": "5fe6a52e-6f20-43b8-e4ab-74ea28c1561b"
      },
      "execution_count": 6,
      "outputs": [
        {
          "output_type": "error",
          "ename": "FileNotFoundError",
          "evalue": "[Errno 2] No such file or directory: '/kaggle/input/fruits-fresh-and-rotten-for-classification/dataset/train'",
          "traceback": [
            "\u001b[0;31m---------------------------------------------------------------------------\u001b[0m",
            "\u001b[0;31mFileNotFoundError\u001b[0m                         Traceback (most recent call last)",
            "\u001b[0;32m<ipython-input-6-e83f6e047af4>\u001b[0m in \u001b[0;36m<cell line: 1>\u001b[0;34m()\u001b[0m\n\u001b[0;32m----> 1\u001b[0;31m \u001b[0mX\u001b[0m\u001b[0;34m=\u001b[0m\u001b[0mload_rand\u001b[0m\u001b[0;34m(\u001b[0m\u001b[0;34m)\u001b[0m\u001b[0;34m\u001b[0m\u001b[0;34m\u001b[0m\u001b[0m\n\u001b[0m",
            "\u001b[0;32m<ipython-input-3-7a0ed1fdf905>\u001b[0m in \u001b[0;36mload_rand\u001b[0;34m()\u001b[0m\n\u001b[1;32m      2\u001b[0m     \u001b[0mX\u001b[0m\u001b[0;34m=\u001b[0m\u001b[0;34m[\u001b[0m\u001b[0;34m]\u001b[0m\u001b[0;34m\u001b[0m\u001b[0;34m\u001b[0m\u001b[0m\n\u001b[1;32m      3\u001b[0m     \u001b[0mdir_path\u001b[0m\u001b[0;34m=\u001b[0m\u001b[0;34m'/kaggle/input/fruits-fresh-and-rotten-for-classification/dataset/train'\u001b[0m\u001b[0;34m\u001b[0m\u001b[0;34m\u001b[0m\u001b[0m\n\u001b[0;32m----> 4\u001b[0;31m     \u001b[0;32mfor\u001b[0m \u001b[0msub_dir\u001b[0m \u001b[0;32min\u001b[0m \u001b[0mtqdm\u001b[0m\u001b[0;34m(\u001b[0m\u001b[0mos\u001b[0m\u001b[0;34m.\u001b[0m\u001b[0mlistdir\u001b[0m\u001b[0;34m(\u001b[0m\u001b[0mdir_path\u001b[0m\u001b[0;34m)\u001b[0m\u001b[0;34m)\u001b[0m\u001b[0;34m:\u001b[0m\u001b[0;34m\u001b[0m\u001b[0;34m\u001b[0m\u001b[0m\n\u001b[0m\u001b[1;32m      5\u001b[0m         \u001b[0mprint\u001b[0m\u001b[0;34m(\u001b[0m\u001b[0msub_dir\u001b[0m\u001b[0;34m)\u001b[0m\u001b[0;34m\u001b[0m\u001b[0;34m\u001b[0m\u001b[0m\n\u001b[1;32m      6\u001b[0m         \u001b[0mpath_main\u001b[0m\u001b[0;34m=\u001b[0m\u001b[0mos\u001b[0m\u001b[0;34m.\u001b[0m\u001b[0mpath\u001b[0m\u001b[0;34m.\u001b[0m\u001b[0mjoin\u001b[0m\u001b[0;34m(\u001b[0m\u001b[0mdir_path\u001b[0m\u001b[0;34m,\u001b[0m\u001b[0msub_dir\u001b[0m\u001b[0;34m)\u001b[0m\u001b[0;34m\u001b[0m\u001b[0;34m\u001b[0m\u001b[0m\n",
            "\u001b[0;31mFileNotFoundError\u001b[0m: [Errno 2] No such file or directory: '/kaggle/input/fruits-fresh-and-rotten-for-classification/dataset/train'"
          ]
        }
      ]
    },
    {
      "cell_type": "code",
      "source": [
        "X=np.array(X)\n",
        "X.shape"
      ],
      "metadata": {
        "execution": {
          "iopub.status.busy": "2024-10-28T18:09:40.175193Z",
          "iopub.execute_input": "2024-10-28T18:09:40.17565Z",
          "iopub.status.idle": "2024-10-28T18:09:40.186499Z",
          "shell.execute_reply.started": "2024-10-28T18:09:40.175603Z",
          "shell.execute_reply": "2024-10-28T18:09:40.185417Z"
        },
        "trusted": true,
        "id": "QVp1_cgnqQrI"
      },
      "execution_count": null,
      "outputs": []
    },
    {
      "cell_type": "code",
      "source": [
        "def show_subpot(X,title=False,Y=None):\n",
        "    if X.shape[0]==36:\n",
        "        f, ax= plt.subplots(6,6, figsize=(40,60))\n",
        "        list_fruits=['rottenoranges', 'rottenapples', 'freshbanana', 'freshoranges', 'rottenbanana', 'freshapples']\n",
        "        for i,img in enumerate(X):\n",
        "            ax[i//6][i%6].imshow(img, aspect='auto')\n",
        "            if title==False:\n",
        "                ax[i//6][i%6].set_title(list_fruits[i//6])\n",
        "            elif title and Y is not None:\n",
        "                ax[i//6][i%6].set_title(Y[i])\n",
        "        plt.show()\n",
        "    else:\n",
        "        print('Cannot plot')"
      ],
      "metadata": {
        "execution": {
          "iopub.status.busy": "2024-10-28T18:09:40.19104Z",
          "iopub.execute_input": "2024-10-28T18:09:40.191416Z",
          "iopub.status.idle": "2024-10-28T18:09:40.203126Z",
          "shell.execute_reply.started": "2024-10-28T18:09:40.19138Z",
          "shell.execute_reply": "2024-10-28T18:09:40.202043Z"
        },
        "trusted": true,
        "id": "M4SoVsgXqQrI"
      },
      "execution_count": null,
      "outputs": []
    },
    {
      "cell_type": "code",
      "source": [
        "show_subpot(X)"
      ],
      "metadata": {
        "execution": {
          "iopub.status.busy": "2024-10-28T18:09:40.207487Z",
          "iopub.execute_input": "2024-10-28T18:09:40.207862Z",
          "iopub.status.idle": "2024-10-28T18:09:45.971573Z",
          "shell.execute_reply.started": "2024-10-28T18:09:40.207825Z",
          "shell.execute_reply": "2024-10-28T18:09:45.970333Z"
        },
        "trusted": true,
        "id": "C1s5DdFjqQrJ"
      },
      "execution_count": null,
      "outputs": []
    },
    {
      "cell_type": "code",
      "source": [
        "del X"
      ],
      "metadata": {
        "execution": {
          "iopub.status.busy": "2024-10-28T18:09:45.973054Z",
          "iopub.execute_input": "2024-10-28T18:09:45.973426Z",
          "iopub.status.idle": "2024-10-28T18:09:45.977571Z",
          "shell.execute_reply.started": "2024-10-28T18:09:45.97339Z",
          "shell.execute_reply": "2024-10-28T18:09:45.976711Z"
        },
        "trusted": true,
        "id": "MNNhXZ_vqQrK"
      },
      "execution_count": null,
      "outputs": []
    },
    {
      "cell_type": "markdown",
      "source": [
        "# Rotten vs fresh"
      ],
      "metadata": {
        "id": "gF2CqBuIqQrL"
      }
    },
    {
      "cell_type": "code",
      "source": [
        "def load_rottenvsfresh():\n",
        "    quality=['fresh', 'rotten']\n",
        "    X,Y=[],[]\n",
        "    z=[]\n",
        "    for cata in tqdm(os.listdir('/kaggle/input/fruits-fresh-and-rotten-for-classification/dataset/train')):\n",
        "        if quality[0] in cata:\n",
        "            path_main=os.path.join('/kaggle/input/fruits-fresh-and-rotten-for-classification/dataset/train',cata)\n",
        "            for img_name in os.listdir(path_main):\n",
        "                img=cv2.imread(os.path.join(path_main,img_name))\n",
        "                img=cv2.resize(img,(100,100))\n",
        "                img=cv2.cvtColor(img,cv2.COLOR_BGR2RGB)\n",
        "                z.append([img,0])\n",
        "        else:\n",
        "            path_main=os.path.join('/kaggle/input/fruits-fresh-and-rotten-for-classification/dataset/train',cata)\n",
        "            for img_name in os.listdir(path_main):\n",
        "                img=cv2.imread(os.path.join(path_main,img_name))\n",
        "                img=cv2.resize(img,(100,100))\n",
        "                img=cv2.cvtColor(img,cv2.COLOR_BGR2RGB)\n",
        "                z.append([img,1])\n",
        "    print('Shuffling your data.....')\n",
        "    shuffle(z)\n",
        "    for images, labels in tqdm(z):\n",
        "        X.append(images);Y.append(labels)\n",
        "    return X,Y"
      ],
      "metadata": {
        "execution": {
          "iopub.status.busy": "2024-10-28T18:09:45.979324Z",
          "iopub.execute_input": "2024-10-28T18:09:45.979656Z",
          "iopub.status.idle": "2024-10-28T18:09:45.995779Z",
          "shell.execute_reply.started": "2024-10-28T18:09:45.979604Z",
          "shell.execute_reply": "2024-10-28T18:09:45.994804Z"
        },
        "trusted": true,
        "id": "NfaJxYvVqQrN"
      },
      "execution_count": null,
      "outputs": []
    },
    {
      "cell_type": "code",
      "source": [
        "X,Y=load_rottenvsfresh()"
      ],
      "metadata": {
        "execution": {
          "iopub.status.busy": "2024-10-28T18:09:45.997495Z",
          "iopub.execute_input": "2024-10-28T18:09:45.99788Z",
          "iopub.status.idle": "2024-10-28T18:13:22.028816Z",
          "shell.execute_reply.started": "2024-10-28T18:09:45.997845Z",
          "shell.execute_reply": "2024-10-28T18:13:22.027721Z"
        },
        "trusted": true,
        "id": "spyiH1UEqQrO"
      },
      "execution_count": null,
      "outputs": []
    },
    {
      "cell_type": "code",
      "source": [
        "Y=np.array(Y)\n",
        "X=np.array(X)"
      ],
      "metadata": {
        "execution": {
          "iopub.status.busy": "2024-10-28T18:13:22.03051Z",
          "iopub.execute_input": "2024-10-28T18:13:22.03089Z",
          "iopub.status.idle": "2024-10-28T18:13:22.208589Z",
          "shell.execute_reply.started": "2024-10-28T18:13:22.030845Z",
          "shell.execute_reply": "2024-10-28T18:13:22.207402Z"
        },
        "trusted": true,
        "id": "dBaxtP_kqQrO"
      },
      "execution_count": null,
      "outputs": []
    },
    {
      "cell_type": "code",
      "source": [
        "y_ser=pd.Series(Y)\n",
        "y_ser.value_counts()"
      ],
      "metadata": {
        "execution": {
          "iopub.status.busy": "2024-10-28T18:13:22.210328Z",
          "iopub.execute_input": "2024-10-28T18:13:22.210706Z",
          "iopub.status.idle": "2024-10-28T18:13:22.224675Z",
          "shell.execute_reply.started": "2024-10-28T18:13:22.210669Z",
          "shell.execute_reply": "2024-10-28T18:13:22.223462Z"
        },
        "trusted": true,
        "id": "BlFeA5ikqQrP"
      },
      "execution_count": null,
      "outputs": []
    },
    {
      "cell_type": "code",
      "source": [
        "def load_rottenvsfresh_valset():\n",
        "    quality=['fresh', 'rotten']\n",
        "    X,Y=[],[]\n",
        "    z=[]\n",
        "    for cata in tqdm(os.listdir('/kaggle/input/fruits-fresh-and-rotten-for-classification/dataset/test')):\n",
        "        if quality[0] in cata:\n",
        "            path_main=os.path.join('/kaggle/input/fruits-fresh-and-rotten-for-classification/dataset/test',cata)\n",
        "            for img_name in os.listdir(path_main):\n",
        "                img=cv2.imread(os.path.join(path_main,img_name))\n",
        "                img=cv2.resize(img,(100,100))\n",
        "                img=cv2.cvtColor(img,cv2.COLOR_BGR2RGB)\n",
        "                z.append([img,0])\n",
        "        else:\n",
        "            path_main=os.path.join('/kaggle/input/fruits-fresh-and-rotten-for-classification/dataset/test',cata)\n",
        "            for img_name in os.listdir(path_main):\n",
        "                img=cv2.imread(os.path.join(path_main,img_name))\n",
        "                img=cv2.resize(img,(100,100))\n",
        "                img=cv2.cvtColor(img,cv2.COLOR_BGR2RGB)\n",
        "                z.append([img,1])\n",
        "    print('Shuffling your data.....')\n",
        "    shuffle(z)\n",
        "    for images, labels in tqdm(z):\n",
        "        X.append(images);Y.append(labels)\n",
        "    return X,Y"
      ],
      "metadata": {
        "execution": {
          "iopub.status.busy": "2024-10-28T18:13:22.226863Z",
          "iopub.execute_input": "2024-10-28T18:13:22.227376Z",
          "iopub.status.idle": "2024-10-28T18:13:22.246462Z",
          "shell.execute_reply.started": "2024-10-28T18:13:22.227325Z",
          "shell.execute_reply": "2024-10-28T18:13:22.245218Z"
        },
        "trusted": true,
        "id": "6m2xjNjsqQrP"
      },
      "execution_count": null,
      "outputs": []
    },
    {
      "cell_type": "code",
      "source": [
        "X_val,Y_val=load_rottenvsfresh_valset()"
      ],
      "metadata": {
        "execution": {
          "iopub.status.busy": "2024-10-28T18:13:22.24832Z",
          "iopub.execute_input": "2024-10-28T18:13:22.248828Z",
          "iopub.status.idle": "2024-10-28T18:14:07.741333Z",
          "shell.execute_reply.started": "2024-10-28T18:13:22.24875Z",
          "shell.execute_reply": "2024-10-28T18:14:07.74008Z"
        },
        "trusted": true,
        "id": "cxPwtPXDqQrQ"
      },
      "execution_count": null,
      "outputs": []
    },
    {
      "cell_type": "code",
      "source": [
        "Y_val=np.array(Y_val)\n",
        "X_val=np.array(X_val)\n",
        "y_ser=pd.Series(Y_val)\n",
        "y_ser.value_counts()"
      ],
      "metadata": {
        "execution": {
          "iopub.status.busy": "2024-10-28T18:14:07.743387Z",
          "iopub.execute_input": "2024-10-28T18:14:07.743737Z",
          "iopub.status.idle": "2024-10-28T18:14:07.801767Z",
          "shell.execute_reply.started": "2024-10-28T18:14:07.743703Z",
          "shell.execute_reply": "2024-10-28T18:14:07.800533Z"
        },
        "trusted": true,
        "id": "ve1C_qe7qQrQ"
      },
      "execution_count": null,
      "outputs": []
    },
    {
      "cell_type": "code",
      "source": [
        "import keras\n",
        "from keras.layers import Dense,Dropout, Conv2D,MaxPooling2D , Activation, Flatten, BatchNormalization, SeparableConv2D\n",
        "from keras.models import Sequential"
      ],
      "metadata": {
        "execution": {
          "iopub.status.busy": "2024-10-28T18:14:07.803617Z",
          "iopub.execute_input": "2024-10-28T18:14:07.804127Z",
          "iopub.status.idle": "2024-10-28T18:14:07.809691Z",
          "shell.execute_reply.started": "2024-10-28T18:14:07.804071Z",
          "shell.execute_reply": "2024-10-28T18:14:07.808574Z"
        },
        "trusted": true,
        "id": "rnS2iYKwqQrR"
      },
      "execution_count": null,
      "outputs": []
    },
    {
      "cell_type": "code",
      "source": [
        "model = Sequential()\n",
        "\n",
        "model.add(Conv2D(32, (3, 3), kernel_initializer='he_uniform', padding='same', activation='relu', input_shape=(100,100,3)))\n",
        "model.add(BatchNormalization())\n",
        "model.add(SeparableConv2D(32, (3, 3), kernel_initializer='he_uniform', padding='same', activation='relu'))\n",
        "model.add(MaxPooling2D((2, 2)))\n",
        "model.add(BatchNormalization())\n",
        "model.add(Dropout(0.3))\n",
        "\n",
        "model.add(SeparableConv2D(64, (3, 3), kernel_initializer='he_uniform', padding='same', activation='relu'))\n",
        "model.add(SeparableConv2D(64, (3, 3), kernel_initializer='he_uniform', padding='same', activation='relu'))\n",
        "model.add(BatchNormalization())\n",
        "model.add(MaxPooling2D((2, 2)))\n",
        "model.add(Dropout(0.4))\n",
        "\n",
        "model.add(Conv2D(128, (3, 3), kernel_initializer='he_uniform', padding='same', activation='relu'))\n",
        "# model.add(BatchNormalization())\n",
        "model.add(Conv2D(128, (3, 3), kernel_initializer='he_uniform', padding='same', activation='relu'))\n",
        "model.add(BatchNormalization())\n",
        "model.add(MaxPooling2D((2, 2)))\n",
        "model.add(Dropout(0.5))\n",
        "\n",
        "model.add(Flatten())\n",
        "\n",
        "#model.add(Dense(512, activation='relu', kernel_initializer='he_uniform'))\n",
        "#model.add(Dropout(0.5))\n",
        "model.add(Dense(128, activation='relu', kernel_initializer='he_uniform'))\n",
        "model.add(Dropout(0.3))\n",
        "\n",
        "model.add(Dense(1, activation='sigmoid'))"
      ],
      "metadata": {
        "execution": {
          "iopub.status.busy": "2024-10-28T18:14:07.811974Z",
          "iopub.execute_input": "2024-10-28T18:14:07.812432Z",
          "iopub.status.idle": "2024-10-28T18:14:08.358987Z",
          "shell.execute_reply.started": "2024-10-28T18:14:07.81239Z",
          "shell.execute_reply": "2024-10-28T18:14:08.357998Z"
        },
        "trusted": true,
        "id": "43k7aerKqQrR"
      },
      "execution_count": null,
      "outputs": []
    },
    {
      "cell_type": "code",
      "source": [
        "model.summary()"
      ],
      "metadata": {
        "execution": {
          "iopub.status.busy": "2024-10-28T18:14:08.361025Z",
          "iopub.execute_input": "2024-10-28T18:14:08.361532Z",
          "iopub.status.idle": "2024-10-28T18:14:08.375523Z",
          "shell.execute_reply.started": "2024-10-28T18:14:08.361477Z",
          "shell.execute_reply": "2024-10-28T18:14:08.37394Z"
        },
        "trusted": true,
        "id": "MK7RcyGuqQrS"
      },
      "execution_count": null,
      "outputs": []
    },
    {
      "cell_type": "code",
      "source": [
        "import tensorflow as tf"
      ],
      "metadata": {
        "execution": {
          "iopub.status.busy": "2024-10-28T18:14:08.377589Z",
          "iopub.execute_input": "2024-10-28T18:14:08.377965Z",
          "iopub.status.idle": "2024-10-28T18:14:08.388764Z",
          "shell.execute_reply.started": "2024-10-28T18:14:08.377928Z",
          "shell.execute_reply": "2024-10-28T18:14:08.387353Z"
        },
        "trusted": true,
        "id": "ybZc5ys3qQrS"
      },
      "execution_count": null,
      "outputs": []
    },
    {
      "cell_type": "code",
      "source": [
        "lr_rate=keras.callbacks.ReduceLROnPlateau(\n",
        "    monitor='val_loss', factor=0.5, patience=6, verbose=1, mode='max',\n",
        "    min_lr=0.00002, cooldown=2)\n",
        "check_point=tf.keras.callbacks.ModelCheckpoint(\n",
        "    filepath='/kaggle/working/rotten.h5', monitor='val_loss', verbose=1, save_best_only=True,\n",
        "    save_weights_only=False, mode='min')\n",
        "\n",
        "model.compile(loss=keras.losses.binary_crossentropy, optimizer = keras.optimizers.Adam(lr = 0.001), metrics=['accuracy'])"
      ],
      "metadata": {
        "execution": {
          "iopub.status.busy": "2024-10-28T18:14:08.390721Z",
          "iopub.execute_input": "2024-10-28T18:14:08.391114Z",
          "iopub.status.idle": "2024-10-28T18:14:08.419873Z",
          "shell.execute_reply.started": "2024-10-28T18:14:08.391077Z",
          "shell.execute_reply": "2024-10-28T18:14:08.418617Z"
        },
        "trusted": true,
        "id": "kaM2G1SfqQrS"
      },
      "execution_count": null,
      "outputs": []
    },
    {
      "cell_type": "code",
      "source": [
        "X=X/255.0\n",
        "X_val=X_val/255.0"
      ],
      "metadata": {
        "execution": {
          "iopub.status.busy": "2024-10-28T18:14:08.421592Z",
          "iopub.execute_input": "2024-10-28T18:14:08.422014Z",
          "iopub.status.idle": "2024-10-28T18:14:09.918353Z",
          "shell.execute_reply.started": "2024-10-28T18:14:08.421973Z",
          "shell.execute_reply": "2024-10-28T18:14:09.916903Z"
        },
        "trusted": true,
        "id": "0DwNJnZWqQrS"
      },
      "execution_count": null,
      "outputs": []
    },
    {
      "cell_type": "code",
      "source": [
        "history=model.fit(X,Y,batch_size=20,validation_data=(X_val,Y_val),epochs= 50,\n",
        "                 callbacks=[check_point])"
      ],
      "metadata": {
        "execution": {
          "iopub.status.busy": "2024-10-28T18:14:09.920052Z",
          "iopub.execute_input": "2024-10-28T18:14:09.920475Z"
        },
        "trusted": true,
        "id": "oGf636ZVqQrS"
      },
      "execution_count": null,
      "outputs": []
    },
    {
      "cell_type": "code",
      "source": [
        "plt.figure(1, figsize = (20, 12))\n",
        "plt.subplot(1,2,1)\n",
        "plt.xlabel(\"Epochs\")\n",
        "plt.ylabel(\"Loss\")\n",
        "plt.plot( history.history[\"loss\"], label = \"Training Loss\")\n",
        "plt.plot( history.history[\"val_loss\"], label = \"Validation Loss\")\n",
        "plt.grid(True)\n",
        "plt.legend()\n",
        "\n",
        "plt.subplot(1,2,2)\n",
        "plt.xlabel(\"Epochs\")\n",
        "plt.ylabel(\"Accuracy\")\n",
        "plt.plot( history.history[\"accuracy\"], label = \"Training Accuracy\")\n",
        "plt.plot( history.history[\"val_accuracy\"], label = \"Validation Accuracy\")\n",
        "plt.grid(True)\n",
        "plt.legend()"
      ],
      "metadata": {
        "trusted": true,
        "id": "97Tbm220qQrT"
      },
      "execution_count": null,
      "outputs": []
    },
    {
      "cell_type": "code",
      "source": [
        "model.evaluate(X_val,Y_val)"
      ],
      "metadata": {
        "trusted": true,
        "id": "fVOfpK0jqQrT"
      },
      "execution_count": null,
      "outputs": []
    },
    {
      "cell_type": "code",
      "source": [
        "model.save('/kaggle/working/rottenvsfresh.h5')"
      ],
      "metadata": {
        "trusted": true,
        "id": "DwFPyDIgqQrT"
      },
      "execution_count": null,
      "outputs": []
    },
    {
      "cell_type": "code",
      "source": [
        "from keras.models import Model, load_model"
      ],
      "metadata": {
        "trusted": true,
        "id": "Sqh8sl0vqQrT"
      },
      "execution_count": null,
      "outputs": []
    },
    {
      "cell_type": "code",
      "source": [
        "new_model=load_model('/kaggle/working/rotten.h5')"
      ],
      "metadata": {
        "trusted": true,
        "id": "Suv-jnJyqQrT"
      },
      "execution_count": null,
      "outputs": []
    },
    {
      "cell_type": "code",
      "source": [
        "new_model.evaluate(X_val,Y_val)"
      ],
      "metadata": {
        "trusted": true,
        "id": "xyP03-v3qQrT"
      },
      "execution_count": null,
      "outputs": []
    },
    {
      "cell_type": "code",
      "source": [
        "plt.imshow(X_val[0])"
      ],
      "metadata": {
        "trusted": true,
        "id": "xm0zsKHYqQrT"
      },
      "execution_count": null,
      "outputs": []
    },
    {
      "cell_type": "code",
      "source": [
        "model.predict(X_val[0].reshape(1,100,100,3))"
      ],
      "metadata": {
        "trusted": true,
        "id": "rWdnUAGsqQrT"
      },
      "execution_count": null,
      "outputs": []
    },
    {
      "cell_type": "code",
      "source": [
        "show_subpot(X_val[-36*11:-36*10])"
      ],
      "metadata": {
        "trusted": true,
        "id": "77G6sb0IqQrU"
      },
      "execution_count": null,
      "outputs": []
    },
    {
      "cell_type": "code",
      "source": [
        "model.predict_classes(X_val[-36*11:-36*10])"
      ],
      "metadata": {
        "trusted": true,
        "id": "Sx6XUpgLqQrU"
      },
      "execution_count": null,
      "outputs": []
    },
    {
      "cell_type": "markdown",
      "source": [
        "# Category of Fruits"
      ],
      "metadata": {
        "id": "GkEXSeu9qQrU"
      }
    },
    {
      "cell_type": "code",
      "source": [
        "def load_fruits_data():\n",
        "    quality=['apples', 'banana','oranges']\n",
        "    X,Y=[],[]\n",
        "    z=[]\n",
        "    for cata in tqdm(os.listdir('/kaggle/input/fruits-fresh-and-rotten-for-classification/dataset/test')):\n",
        "        if quality[0] in cata:\n",
        "            path_main=os.path.join('/kaggle/input/fruits-fresh-and-rotten-for-classification/dataset/test',cata)\n",
        "            for img_name in os.listdir(path_main):\n",
        "                img=cv2.imread(os.path.join(path_main,img_name))\n",
        "                img=cv2.resize(img,(100,100))\n",
        "                img=cv2.cvtColor(img,cv2.COLOR_BGR2RGB)\n",
        "                z.append([img,0])\n",
        "        elif quality[1] in cata:\n",
        "            path_main=os.path.join('/kaggle/input/fruits-fresh-and-rotten-for-classification/dataset/test',cata)\n",
        "            for img_name in os.listdir(path_main):\n",
        "                img=cv2.imread(os.path.join(path_main,img_name))\n",
        "                img=cv2.resize(img,(100,100))\n",
        "                img=cv2.cvtColor(img,cv2.COLOR_BGR2RGB)\n",
        "                z.append([img,1])\n",
        "        elif quality[2] in cata:\n",
        "            path_main=os.path.join('/kaggle/input/fruits-fresh-and-rotten-for-classification/dataset/test',cata)\n",
        "            for img_name in os.listdir(path_main):\n",
        "                img=cv2.imread(os.path.join(path_main,img_name))\n",
        "                img=cv2.resize(img,(100,100))\n",
        "                img=cv2.cvtColor(img,cv2.COLOR_BGR2RGB)\n",
        "                z.append([img,2])\n",
        "\n",
        "    print('Shuffling your data.....')\n",
        "    shuffle(z)\n",
        "    for images, labels in tqdm(z):\n",
        "        X.append(images);Y.append(labels)\n",
        "    return X,Y\n",
        ""
      ],
      "metadata": {
        "trusted": true,
        "id": "BddL8YQHqQrU"
      },
      "execution_count": null,
      "outputs": []
    },
    {
      "cell_type": "code",
      "source": [
        "def load_fruits_train_data():\n",
        "    quality=['apples', 'banana','oranges']\n",
        "    X,Y=[],[]\n",
        "    z=[]\n",
        "    for cata in tqdm(os.listdir('/kaggle/input/fruits-fresh-and-rotten-for-classification/dataset/train')):\n",
        "        if quality[0] in cata:\n",
        "            path_main=os.path.join('/kaggle/input/fruits-fresh-and-rotten-for-classification/dataset/train',cata)\n",
        "            for img_name in os.listdir(path_main):\n",
        "                img=cv2.imread(os.path.join(path_main,img_name))\n",
        "                img=cv2.resize(img,(100,100))\n",
        "                img=cv2.cvtColor(img,cv2.COLOR_BGR2RGB)\n",
        "                z.append([img,0])\n",
        "        elif quality[1] in cata:\n",
        "            path_main=os.path.join('/kaggle/input/fruits-fresh-and-rotten-for-classification/dataset/train',cata)\n",
        "            for img_name in os.listdir(path_main):\n",
        "                img=cv2.imread(os.path.join(path_main,img_name))\n",
        "                img=cv2.resize(img,(100,100))\n",
        "                img=cv2.cvtColor(img,cv2.COLOR_BGR2RGB)\n",
        "                z.append([img,1])\n",
        "        elif quality[2] in cata:\n",
        "            path_main=os.path.join('/kaggle/input/fruits-fresh-and-rotten-for-classification/dataset/train',cata)\n",
        "            for img_name in os.listdir(path_main):\n",
        "                img=cv2.imread(os.path.join(path_main,img_name))\n",
        "                img=cv2.resize(img,(100,100))\n",
        "                img=cv2.cvtColor(img,cv2.COLOR_BGR2RGB)\n",
        "                z.append([img,2])\n",
        "\n",
        "    print('Shuffling your data.....')\n",
        "    shuffle(z)\n",
        "    for images, labels in tqdm(z):\n",
        "        X.append(images);Y.append(labels)\n",
        "    return X,Y\n",
        ""
      ],
      "metadata": {
        "trusted": true,
        "id": "BFpWSvwbqQrV"
      },
      "execution_count": null,
      "outputs": []
    },
    {
      "cell_type": "code",
      "source": [
        "X_val,Y_val=load_fruits_data()"
      ],
      "metadata": {
        "trusted": true,
        "id": "lKZuouwXqQrV"
      },
      "execution_count": null,
      "outputs": []
    },
    {
      "cell_type": "code",
      "source": [
        "X,Y=load_fruits_train_data()"
      ],
      "metadata": {
        "trusted": true,
        "id": "BfkBDF7GqQrV"
      },
      "execution_count": null,
      "outputs": []
    },
    {
      "cell_type": "code",
      "source": [
        "X=np.array(X)\n",
        "X_val=np.array(X_val)"
      ],
      "metadata": {
        "trusted": true,
        "id": "MhT7ZcbbqQrV"
      },
      "execution_count": null,
      "outputs": []
    },
    {
      "cell_type": "code",
      "source": [
        "X.shape,X_val.shape"
      ],
      "metadata": {
        "trusted": true,
        "id": "GD2dXgKqqQre"
      },
      "execution_count": null,
      "outputs": []
    },
    {
      "cell_type": "code",
      "source": [
        "X=X/255.0\n",
        "X_val=X_val/255.0"
      ],
      "metadata": {
        "trusted": true,
        "id": "Q_Q_AxCDqQre"
      },
      "execution_count": null,
      "outputs": []
    },
    {
      "cell_type": "code",
      "source": [
        "Y=to_categorical(Y)\n",
        "Y"
      ],
      "metadata": {
        "trusted": true,
        "id": "U1s3CRkhqQrf"
      },
      "execution_count": null,
      "outputs": []
    },
    {
      "cell_type": "code",
      "source": [
        "Y_test=to_categorical(Y_val)\n",
        "Y_val=np.array(Y_val)"
      ],
      "metadata": {
        "trusted": true,
        "id": "ckFWUVgsqQrf"
      },
      "execution_count": null,
      "outputs": []
    },
    {
      "cell_type": "code",
      "source": [
        "Y.shape,Y_test.shape, Y_val.shape"
      ],
      "metadata": {
        "trusted": true,
        "id": "AmAVoT70qQrf"
      },
      "execution_count": null,
      "outputs": []
    },
    {
      "cell_type": "code",
      "source": [
        "model = Sequential()\n",
        "\n",
        "model.add(Conv2D(32, (3, 3), kernel_initializer='he_uniform', padding='same', activation='relu', input_shape=(100,100,3)))\n",
        "model.add(BatchNormalization())\n",
        "model.add(SeparableConv2D(32, (3, 3), kernel_initializer='he_uniform', padding='same', activation='relu'))\n",
        "model.add(MaxPooling2D((2, 2)))\n",
        "model.add(BatchNormalization())\n",
        "model.add(Dropout(0.3))\n",
        "\n",
        "model.add(SeparableConv2D(64, (3, 3), kernel_initializer='he_uniform', padding='same', activation='relu'))\n",
        "model.add(SeparableConv2D(64, (3, 3), kernel_initializer='he_uniform', padding='same', activation='relu'))\n",
        "model.add(SeparableConv2D(64, (3, 3), kernel_initializer='he_uniform', padding='same', activation='relu'))\n",
        "model.add(BatchNormalization())\n",
        "model.add(MaxPooling2D((2, 2)))\n",
        "model.add(Dropout(0.4))\n",
        "\n",
        "model.add(SeparableConv2D(128, (3, 3), kernel_initializer='he_uniform', padding='same', activation='relu'))\n",
        "model.add(SeparableConv2D(128, (3, 3), kernel_initializer='he_uniform', padding='same', activation='relu'))\n",
        "model.add(BatchNormalization())\n",
        "model.add(SeparableConv2D(128, (3, 3), kernel_initializer='he_uniform', padding='same', activation='relu'))\n",
        "model.add(BatchNormalization())\n",
        "model.add(MaxPooling2D((2, 2)))\n",
        "model.add(Dropout(0.5))\n",
        "\n",
        "model.add(Flatten())\n",
        "\n",
        "#model.add(Dense(512, activation='relu', kernel_initializer='he_uniform'))\n",
        "#model.add(Dropout(0.5))\n",
        "model.add(Dense(128, activation='relu', kernel_initializer='he_uniform'))\n",
        "model.add(Dropout(0.3))\n",
        "\n",
        "model.add(Dense(3, activation='softmax'))"
      ],
      "metadata": {
        "trusted": true,
        "id": "QoS9p2B-qQrf"
      },
      "execution_count": null,
      "outputs": []
    },
    {
      "cell_type": "code",
      "source": [
        "lr_rate=keras.callbacks.ReduceLROnPlateau(\n",
        "    monitor='val_loss', factor=0.5, patience=6, verbose=1, mode='max',\n",
        "    min_lr=0.00002, cooldown=2)\n",
        "check_point=tf.keras.callbacks.ModelCheckpoint(\n",
        "    filepath='/kaggle/working/fruit_cata.h5', monitor='val_loss', verbose=1, save_best_only=True,\n",
        "    save_weights_only=False, mode='min')\n",
        "\n",
        "model.compile(loss=keras.losses.categorical_crossentropy, optimizer = keras.optimizers.Adam(lr = 0.001), metrics=['accuracy'])"
      ],
      "metadata": {
        "trusted": true,
        "id": "BbZgrfO7qQrg"
      },
      "execution_count": null,
      "outputs": []
    },
    {
      "cell_type": "code",
      "source": [
        "history=model.fit(X,Y,batch_size=20,validation_data=(X_val,Y_test),epochs= 40,\n",
        "                 callbacks=[check_point])"
      ],
      "metadata": {
        "trusted": true,
        "id": "1BYCM88zqQrg"
      },
      "execution_count": null,
      "outputs": []
    },
    {
      "cell_type": "code",
      "source": [
        "plt.figure(1, figsize = (20, 12))\n",
        "plt.subplot(1,2,1)\n",
        "plt.xlabel(\"Epochs\")\n",
        "plt.ylabel(\"Loss\")\n",
        "plt.plot( history.history[\"loss\"], label = \"Training Loss\")\n",
        "plt.plot( history.history[\"val_loss\"], label = \"Validation Loss\")\n",
        "plt.grid(True)\n",
        "plt.legend()\n",
        "\n",
        "plt.subplot(1,2,2)\n",
        "plt.xlabel(\"Epochs\")\n",
        "plt.ylabel(\"Accuracy\")\n",
        "plt.plot( history.history[\"accuracy\"], label = \"Training Accuracy\")\n",
        "plt.plot( history.history[\"val_accuracy\"], label = \"Validation Accuracy\")\n",
        "plt.grid(True)\n",
        "plt.legend()"
      ],
      "metadata": {
        "trusted": true,
        "id": "HciKneqZqQrg"
      },
      "execution_count": null,
      "outputs": []
    },
    {
      "cell_type": "code",
      "source": [
        "model=load_model('fruit_cata.h5')"
      ],
      "metadata": {
        "trusted": true,
        "id": "52cKA4euqQrg"
      },
      "execution_count": null,
      "outputs": []
    },
    {
      "cell_type": "code",
      "source": [
        "model.evaluate(X,Y)"
      ],
      "metadata": {
        "trusted": true,
        "id": "oQuIwrajqQrg"
      },
      "execution_count": null,
      "outputs": []
    },
    {
      "cell_type": "code",
      "source": [
        "show_subpot(X_val[:36],title=True,Y=model.predict_classes(X_val[:36]))"
      ],
      "metadata": {
        "trusted": true,
        "id": "spSKY0jDqQrg"
      },
      "execution_count": null,
      "outputs": []
    },
    {
      "cell_type": "code",
      "source": [
        "model.predict_classes(X_val[:36])"
      ],
      "metadata": {
        "trusted": true,
        "id": "B07EhiOrqQrh"
      },
      "execution_count": null,
      "outputs": []
    },
    {
      "cell_type": "code",
      "source": [],
      "metadata": {
        "trusted": true,
        "id": "6fJoMgcVqQrh"
      },
      "execution_count": null,
      "outputs": []
    },
    {
      "cell_type": "code",
      "source": [],
      "metadata": {
        "id": "ZwAK1AX2rBHw"
      },
      "execution_count": null,
      "outputs": []
    }
  ]
}